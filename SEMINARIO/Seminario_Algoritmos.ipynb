{
  "cells": [
    {
      "cell_type": "markdown",
      "metadata": {
        "id": "hVbXYX-RfPWh"
      },
      "source": [
        "# Algoritmos de optimización - Seminario<br>\n",
        "Nombre y Apellidos:  Luis Jama Tello<br>\n",
        "Url: https://github.com/ljham/03MIAR_ALG_OPTZ/tree/main/SEMINARIO<br>\n",
        "Problema: Sesiones de doblaje <br>\n",
        "\n",
        "\n",
        "__Descripción del Problema :__<br>\n",
        "\n",
        "Se precisa coordinar el doblaje de una película. Los actores del doblaje deben coincidir en las\n",
        "tomas en las que sus personajes aparecen juntos en las diferentes tomas. Los actores de\n",
        "doblaje cobran todos la misma cantidad por cada día que deben desplazarse hasta el estudio de\n",
        "grabación independientemente del número de tomas que se graben. No es posible grabar más\n",
        "de 6 tomas por día. El objetivo es planificar las sesiones por día de manera que el gasto por los\n",
        "servicios de los actores de doblaje sea el menor posible.\n",
        "\n",
        "- Número de Actores : 10\n",
        "- Número de Tomas : 30\n",
        "- Actores/Tomas : https://bit.ly/36D8IuK\n",
        "  - 1 indica que el actor participa en la toma\n",
        "  - 0 en caso contrario\n",
        "\n",
        "\n",
        "(*) La respuesta es obligatoria\n",
        "\n",
        "\n",
        "\n",
        "\n",
        "\n"
      ]
    },
    {
      "cell_type": "markdown",
      "metadata": {
        "id": "3_-exlrTgLd-"
      },
      "source": [
        "__(*)¿Cuantas posibilidades hay sin tener en cuenta las restricciones?__<br>\n"
      ]
    },
    {
      "cell_type": "markdown",
      "metadata": {
        "id": "WfCUqJyKhPcw"
      },
      "source": [
        "Dado que hay N actores y M tomas, el número de combinaciones actor-toma es N x M. Por lo tanto, el número total de posibilidades sin restricciones es:\n",
        "\n",
        "Posibilidades sin restricciones = 2^(N x M)\n",
        "\n",
        "Por ejemplo, si hay 10 actores y 30 tomas, el número de posibilidades sin restricciones sería:\n",
        "\n",
        "Posibilidades sin restricciones = 2^(10 x 30) = 2^300"
      ]
    },
    {
      "cell_type": "markdown",
      "metadata": {
        "id": "iq6Fe32MgpDX"
      },
      "source": [
        "\n",
        "__¿Cuantas posibilidades hay teniendo en cuenta todas las restricciones.__<br>"
      ]
    },
    {
      "cell_type": "markdown",
      "metadata": {},
      "source": []
    },
    {
      "cell_type": "markdown",
      "metadata": {
        "id": "dzynfVJahHoY"
      },
      "source": [
        "Modelo para el espacio de soluciones<br>\n",
        "(*) ¿Cual es la estructura de datos que mejor se adapta al problema? Argumentalo.(Es posible que hayas elegido una al principio y veas la necesidad de cambiar, arguentalo)\n"
      ]
    },
    {
      "cell_type": "markdown",
      "metadata": {
        "id": "xFIJrOwKi2Ti"
      },
      "source": [
        "__Respuesta:__"
      ]
    },
    {
      "cell_type": "markdown",
      "metadata": {
        "id": "38c-7-ejhJmA"
      },
      "source": [
        "Para el problema planteado se han utilizado dos estructuras de datos : <br>\n",
        "\n",
        "1.- Pandas :  Para leer los datos del problema desde una hoja de cálculo en Google Sheets, en la cual, después de haber descargado la información se ha realizado una limpieza de datos y una preparación adecuada para utilizar en el algoritmo que resuelve el problema de planificación del doblaje. El uso de está librería para cargar y manipular los datos facilita la organización y limpieza de los mismos, permitiendo la implementación del algoritmo en sí.\n",
        "\n",
        "2.- Numpy : Para trabajar con matrices y realizar operaciones matriciales eficientes. La estructura de datos clave utilizada en el algoritmo es una matriz bidimensional, que representa la participación de los actores en cada toma. Cada fila de la matriz corresponde a una toma, y cada columna corresponde a un actor. Los valores en la matriz son 1 o 0, donde 1 indica que el actor participa en la toma y 0 indica que no participa."
      ]
    },
    {
      "cell_type": "markdown",
      "metadata": {
        "id": "7Z9U2W7bi-XS"
      },
      "source": [
        "Según el modelo para el espacio de soluciones<br>\n",
        "__(*) ¿Es un problema de maximización o minimización?__<br>\n",
        "\n",
        "__(*) ¿Cual es la función objetivo?__<br>\n"
      ]
    },
    {
      "cell_type": "markdown",
      "metadata": {
        "id": "hBalWLM7j1_d"
      },
      "source": [
        "__Respuesta:__"
      ]
    },
    {
      "cell_type": "markdown",
      "metadata": {
        "id": "pDA-rg3Gj5Lz"
      },
      "source": [
        "El problema planteado es de ___minimización___. El objetivo del problema es planificar las sesiones por día de manera que el gasto por los servicios de los actores de doblaje sea el menor posible.\n",
        "\n",
        "Lo que se busca es encontrar una asignación de tomas a los días de grabación que minimice el costo total de los servicios de los actores. El costo total se calcula sumando los costos de los actores que participan en cada toma en cada día acorde a las restricciones planteadas para la solución del mismo.\n",
        "\n",
        "Por lo tanto, el objetivo del algoritmo es encontrar una solución que minimice el costo total, lo que implica minimizar la función objetivo que representa el costo de los actores. \n",
        "\n",
        "__Funcion Objetivo :__\n",
        "\n",
        "Sea $N$ el número total de actores.<br>\n",
        "Sea $M$ el número total de tomas.<br>\n",
        "Sea $x_{ij}$ una variable binaria que indica si el actor $i$ participa en la toma $j$, entonces $x_{ij} = 1$; de lo contrario, $x_{ij} = 0$.<br>\n",
        "Sea $c_{ij}$ el costo asociado al actor $i$ en la toma $j$.\n",
        "\n",
        "La función objetivo $F$ que buscamos minimizar es :\n",
        "\n",
        "$$\n",
        "f(x) = \\sum_{i=1}^{N} \\sum_{j=1}^{M} C_{ij} \\cdot  x_{ij} \n",
        "$$\n",
        "\n",
        "Sujeto a las siguientes restricciones :\n",
        "\n",
        "Cada toma $j$ debe asignarse a exactamente un día $d$. Por lo tanto, para cada toma $j$, tenemos:\n",
        "\n",
        "$$\n",
        "\\sum_{d=1}^{D} x_{dj} = 1\n",
        "$$\n",
        "\n",
        "donde $D$ es el número total de días de grabación. No se pueden grabar más de 6 tomas por día. Por lo tanto, para cada día $d$, tenemos:\n",
        "\n",
        "$$\n",
        "\\sum_{j=1}^{M} x_{dj} \\leq 6\n",
        "$$\n",
        "\n",
        "Las variables $x_{ij}$ deben ser binarias:\n",
        "\n",
        "$$\n",
        "x_{ij} \\epsilon  \\left \\{0,1  \\right \\}\n",
        "$$\n",
        "\n",
        "El objetivo del problema es encontrar los valores de las variables $x_{ij}$ que minimicen la función objetivo $F$, cumpliendo con las restricciones mencionadas anteriormente.<br>\n",
        "\n"
      ]
    },
    {
      "cell_type": "markdown",
      "metadata": {
        "id": "rlnTYgY1j6I2"
      },
      "source": [
        "Diseña un algoritmo para resolver el problema por fuerza bruta :"
      ]
    },
    {
      "cell_type": "markdown",
      "metadata": {
        "id": "70rDgxYXkC8r"
      },
      "source": [
        "__Respuesta:__"
      ]
    },
    {
      "cell_type": "code",
      "execution_count": 84,
      "metadata": {},
      "outputs": [],
      "source": [
        "import pandas as pd\n",
        "import numpy as np\n",
        "import random"
      ]
    },
    {
      "cell_type": "code",
      "execution_count": 85,
      "metadata": {},
      "outputs": [
        {
          "data": {
            "text/html": [
              "<div>\n",
              "<style scoped>\n",
              "    .dataframe tbody tr th:only-of-type {\n",
              "        vertical-align: middle;\n",
              "    }\n",
              "\n",
              "    .dataframe tbody tr th {\n",
              "        vertical-align: top;\n",
              "    }\n",
              "\n",
              "    .dataframe thead th {\n",
              "        text-align: right;\n",
              "    }\n",
              "</style>\n",
              "<table border=\"1\" class=\"dataframe\">\n",
              "  <thead>\n",
              "    <tr style=\"text-align: right;\">\n",
              "      <th></th>\n",
              "      <th>Toma</th>\n",
              "      <th>1</th>\n",
              "      <th>2</th>\n",
              "      <th>3</th>\n",
              "      <th>4</th>\n",
              "      <th>5</th>\n",
              "      <th>6</th>\n",
              "      <th>7</th>\n",
              "      <th>8</th>\n",
              "      <th>9</th>\n",
              "      <th>10</th>\n",
              "    </tr>\n",
              "  </thead>\n",
              "  <tbody>\n",
              "    <tr>\n",
              "      <th>0</th>\n",
              "      <td>1</td>\n",
              "      <td>1</td>\n",
              "      <td>1</td>\n",
              "      <td>1</td>\n",
              "      <td>1</td>\n",
              "      <td>1</td>\n",
              "      <td>0</td>\n",
              "      <td>0</td>\n",
              "      <td>0</td>\n",
              "      <td>0</td>\n",
              "      <td>0</td>\n",
              "    </tr>\n",
              "    <tr>\n",
              "      <th>1</th>\n",
              "      <td>2</td>\n",
              "      <td>0</td>\n",
              "      <td>0</td>\n",
              "      <td>1</td>\n",
              "      <td>1</td>\n",
              "      <td>1</td>\n",
              "      <td>0</td>\n",
              "      <td>0</td>\n",
              "      <td>0</td>\n",
              "      <td>0</td>\n",
              "      <td>0</td>\n",
              "    </tr>\n",
              "    <tr>\n",
              "      <th>2</th>\n",
              "      <td>3</td>\n",
              "      <td>0</td>\n",
              "      <td>1</td>\n",
              "      <td>0</td>\n",
              "      <td>0</td>\n",
              "      <td>1</td>\n",
              "      <td>0</td>\n",
              "      <td>1</td>\n",
              "      <td>0</td>\n",
              "      <td>0</td>\n",
              "      <td>0</td>\n",
              "    </tr>\n",
              "    <tr>\n",
              "      <th>3</th>\n",
              "      <td>4</td>\n",
              "      <td>1</td>\n",
              "      <td>1</td>\n",
              "      <td>0</td>\n",
              "      <td>0</td>\n",
              "      <td>0</td>\n",
              "      <td>0</td>\n",
              "      <td>1</td>\n",
              "      <td>1</td>\n",
              "      <td>0</td>\n",
              "      <td>0</td>\n",
              "    </tr>\n",
              "    <tr>\n",
              "      <th>4</th>\n",
              "      <td>5</td>\n",
              "      <td>0</td>\n",
              "      <td>1</td>\n",
              "      <td>0</td>\n",
              "      <td>1</td>\n",
              "      <td>0</td>\n",
              "      <td>0</td>\n",
              "      <td>0</td>\n",
              "      <td>1</td>\n",
              "      <td>0</td>\n",
              "      <td>0</td>\n",
              "    </tr>\n",
              "    <tr>\n",
              "      <th>5</th>\n",
              "      <td>6</td>\n",
              "      <td>1</td>\n",
              "      <td>1</td>\n",
              "      <td>0</td>\n",
              "      <td>1</td>\n",
              "      <td>1</td>\n",
              "      <td>0</td>\n",
              "      <td>0</td>\n",
              "      <td>0</td>\n",
              "      <td>0</td>\n",
              "      <td>0</td>\n",
              "    </tr>\n",
              "    <tr>\n",
              "      <th>6</th>\n",
              "      <td>7</td>\n",
              "      <td>1</td>\n",
              "      <td>1</td>\n",
              "      <td>0</td>\n",
              "      <td>1</td>\n",
              "      <td>1</td>\n",
              "      <td>0</td>\n",
              "      <td>0</td>\n",
              "      <td>0</td>\n",
              "      <td>0</td>\n",
              "      <td>0</td>\n",
              "    </tr>\n",
              "    <tr>\n",
              "      <th>7</th>\n",
              "      <td>8</td>\n",
              "      <td>1</td>\n",
              "      <td>1</td>\n",
              "      <td>0</td>\n",
              "      <td>0</td>\n",
              "      <td>0</td>\n",
              "      <td>1</td>\n",
              "      <td>0</td>\n",
              "      <td>0</td>\n",
              "      <td>0</td>\n",
              "      <td>0</td>\n",
              "    </tr>\n",
              "    <tr>\n",
              "      <th>8</th>\n",
              "      <td>9</td>\n",
              "      <td>1</td>\n",
              "      <td>1</td>\n",
              "      <td>0</td>\n",
              "      <td>1</td>\n",
              "      <td>0</td>\n",
              "      <td>0</td>\n",
              "      <td>0</td>\n",
              "      <td>0</td>\n",
              "      <td>0</td>\n",
              "      <td>0</td>\n",
              "    </tr>\n",
              "    <tr>\n",
              "      <th>9</th>\n",
              "      <td>10</td>\n",
              "      <td>1</td>\n",
              "      <td>1</td>\n",
              "      <td>0</td>\n",
              "      <td>0</td>\n",
              "      <td>0</td>\n",
              "      <td>1</td>\n",
              "      <td>0</td>\n",
              "      <td>0</td>\n",
              "      <td>1</td>\n",
              "      <td>0</td>\n",
              "    </tr>\n",
              "    <tr>\n",
              "      <th>10</th>\n",
              "      <td>11</td>\n",
              "      <td>1</td>\n",
              "      <td>1</td>\n",
              "      <td>1</td>\n",
              "      <td>0</td>\n",
              "      <td>1</td>\n",
              "      <td>0</td>\n",
              "      <td>0</td>\n",
              "      <td>1</td>\n",
              "      <td>0</td>\n",
              "      <td>0</td>\n",
              "    </tr>\n",
              "    <tr>\n",
              "      <th>11</th>\n",
              "      <td>12</td>\n",
              "      <td>1</td>\n",
              "      <td>1</td>\n",
              "      <td>1</td>\n",
              "      <td>1</td>\n",
              "      <td>0</td>\n",
              "      <td>1</td>\n",
              "      <td>0</td>\n",
              "      <td>0</td>\n",
              "      <td>0</td>\n",
              "      <td>0</td>\n",
              "    </tr>\n",
              "    <tr>\n",
              "      <th>12</th>\n",
              "      <td>13</td>\n",
              "      <td>1</td>\n",
              "      <td>0</td>\n",
              "      <td>0</td>\n",
              "      <td>1</td>\n",
              "      <td>1</td>\n",
              "      <td>0</td>\n",
              "      <td>0</td>\n",
              "      <td>0</td>\n",
              "      <td>0</td>\n",
              "      <td>0</td>\n",
              "    </tr>\n",
              "    <tr>\n",
              "      <th>13</th>\n",
              "      <td>14</td>\n",
              "      <td>1</td>\n",
              "      <td>0</td>\n",
              "      <td>1</td>\n",
              "      <td>0</td>\n",
              "      <td>0</td>\n",
              "      <td>1</td>\n",
              "      <td>0</td>\n",
              "      <td>0</td>\n",
              "      <td>0</td>\n",
              "      <td>0</td>\n",
              "    </tr>\n",
              "    <tr>\n",
              "      <th>14</th>\n",
              "      <td>15</td>\n",
              "      <td>1</td>\n",
              "      <td>1</td>\n",
              "      <td>0</td>\n",
              "      <td>0</td>\n",
              "      <td>0</td>\n",
              "      <td>0</td>\n",
              "      <td>1</td>\n",
              "      <td>0</td>\n",
              "      <td>0</td>\n",
              "      <td>0</td>\n",
              "    </tr>\n",
              "    <tr>\n",
              "      <th>15</th>\n",
              "      <td>16</td>\n",
              "      <td>0</td>\n",
              "      <td>0</td>\n",
              "      <td>0</td>\n",
              "      <td>1</td>\n",
              "      <td>0</td>\n",
              "      <td>0</td>\n",
              "      <td>0</td>\n",
              "      <td>0</td>\n",
              "      <td>0</td>\n",
              "      <td>1</td>\n",
              "    </tr>\n",
              "    <tr>\n",
              "      <th>16</th>\n",
              "      <td>17</td>\n",
              "      <td>1</td>\n",
              "      <td>0</td>\n",
              "      <td>1</td>\n",
              "      <td>0</td>\n",
              "      <td>0</td>\n",
              "      <td>0</td>\n",
              "      <td>0</td>\n",
              "      <td>0</td>\n",
              "      <td>0</td>\n",
              "      <td>0</td>\n",
              "    </tr>\n",
              "    <tr>\n",
              "      <th>17</th>\n",
              "      <td>18</td>\n",
              "      <td>0</td>\n",
              "      <td>0</td>\n",
              "      <td>1</td>\n",
              "      <td>0</td>\n",
              "      <td>0</td>\n",
              "      <td>1</td>\n",
              "      <td>0</td>\n",
              "      <td>0</td>\n",
              "      <td>0</td>\n",
              "      <td>0</td>\n",
              "    </tr>\n",
              "    <tr>\n",
              "      <th>18</th>\n",
              "      <td>19</td>\n",
              "      <td>1</td>\n",
              "      <td>0</td>\n",
              "      <td>1</td>\n",
              "      <td>0</td>\n",
              "      <td>0</td>\n",
              "      <td>0</td>\n",
              "      <td>0</td>\n",
              "      <td>0</td>\n",
              "      <td>0</td>\n",
              "      <td>0</td>\n",
              "    </tr>\n",
              "    <tr>\n",
              "      <th>19</th>\n",
              "      <td>20</td>\n",
              "      <td>1</td>\n",
              "      <td>0</td>\n",
              "      <td>1</td>\n",
              "      <td>1</td>\n",
              "      <td>1</td>\n",
              "      <td>0</td>\n",
              "      <td>0</td>\n",
              "      <td>0</td>\n",
              "      <td>0</td>\n",
              "      <td>0</td>\n",
              "    </tr>\n",
              "    <tr>\n",
              "      <th>20</th>\n",
              "      <td>21</td>\n",
              "      <td>0</td>\n",
              "      <td>0</td>\n",
              "      <td>0</td>\n",
              "      <td>0</td>\n",
              "      <td>0</td>\n",
              "      <td>1</td>\n",
              "      <td>0</td>\n",
              "      <td>1</td>\n",
              "      <td>0</td>\n",
              "      <td>0</td>\n",
              "    </tr>\n",
              "    <tr>\n",
              "      <th>21</th>\n",
              "      <td>22</td>\n",
              "      <td>1</td>\n",
              "      <td>1</td>\n",
              "      <td>1</td>\n",
              "      <td>1</td>\n",
              "      <td>0</td>\n",
              "      <td>0</td>\n",
              "      <td>0</td>\n",
              "      <td>0</td>\n",
              "      <td>0</td>\n",
              "      <td>0</td>\n",
              "    </tr>\n",
              "    <tr>\n",
              "      <th>22</th>\n",
              "      <td>23</td>\n",
              "      <td>1</td>\n",
              "      <td>0</td>\n",
              "      <td>1</td>\n",
              "      <td>0</td>\n",
              "      <td>0</td>\n",
              "      <td>0</td>\n",
              "      <td>0</td>\n",
              "      <td>0</td>\n",
              "      <td>0</td>\n",
              "      <td>0</td>\n",
              "    </tr>\n",
              "    <tr>\n",
              "      <th>23</th>\n",
              "      <td>24</td>\n",
              "      <td>0</td>\n",
              "      <td>0</td>\n",
              "      <td>1</td>\n",
              "      <td>0</td>\n",
              "      <td>0</td>\n",
              "      <td>1</td>\n",
              "      <td>0</td>\n",
              "      <td>0</td>\n",
              "      <td>0</td>\n",
              "      <td>0</td>\n",
              "    </tr>\n",
              "    <tr>\n",
              "      <th>24</th>\n",
              "      <td>25</td>\n",
              "      <td>1</td>\n",
              "      <td>1</td>\n",
              "      <td>0</td>\n",
              "      <td>1</td>\n",
              "      <td>0</td>\n",
              "      <td>0</td>\n",
              "      <td>0</td>\n",
              "      <td>0</td>\n",
              "      <td>0</td>\n",
              "      <td>1</td>\n",
              "    </tr>\n",
              "    <tr>\n",
              "      <th>25</th>\n",
              "      <td>26</td>\n",
              "      <td>1</td>\n",
              "      <td>0</td>\n",
              "      <td>1</td>\n",
              "      <td>0</td>\n",
              "      <td>1</td>\n",
              "      <td>0</td>\n",
              "      <td>0</td>\n",
              "      <td>0</td>\n",
              "      <td>1</td>\n",
              "      <td>0</td>\n",
              "    </tr>\n",
              "    <tr>\n",
              "      <th>26</th>\n",
              "      <td>27</td>\n",
              "      <td>0</td>\n",
              "      <td>0</td>\n",
              "      <td>0</td>\n",
              "      <td>1</td>\n",
              "      <td>1</td>\n",
              "      <td>0</td>\n",
              "      <td>0</td>\n",
              "      <td>0</td>\n",
              "      <td>0</td>\n",
              "      <td>0</td>\n",
              "    </tr>\n",
              "    <tr>\n",
              "      <th>27</th>\n",
              "      <td>28</td>\n",
              "      <td>1</td>\n",
              "      <td>0</td>\n",
              "      <td>0</td>\n",
              "      <td>1</td>\n",
              "      <td>0</td>\n",
              "      <td>0</td>\n",
              "      <td>0</td>\n",
              "      <td>0</td>\n",
              "      <td>0</td>\n",
              "      <td>0</td>\n",
              "    </tr>\n",
              "    <tr>\n",
              "      <th>28</th>\n",
              "      <td>29</td>\n",
              "      <td>1</td>\n",
              "      <td>0</td>\n",
              "      <td>0</td>\n",
              "      <td>0</td>\n",
              "      <td>1</td>\n",
              "      <td>1</td>\n",
              "      <td>0</td>\n",
              "      <td>0</td>\n",
              "      <td>0</td>\n",
              "      <td>0</td>\n",
              "    </tr>\n",
              "    <tr>\n",
              "      <th>29</th>\n",
              "      <td>30</td>\n",
              "      <td>1</td>\n",
              "      <td>0</td>\n",
              "      <td>0</td>\n",
              "      <td>1</td>\n",
              "      <td>0</td>\n",
              "      <td>0</td>\n",
              "      <td>0</td>\n",
              "      <td>0</td>\n",
              "      <td>0</td>\n",
              "      <td>0</td>\n",
              "    </tr>\n",
              "  </tbody>\n",
              "</table>\n",
              "</div>"
            ],
            "text/plain": [
              "    Toma  1  2  3  4  5  6  7  8  9  10\n",
              "0      1  1  1  1  1  1  0  0  0  0   0\n",
              "1      2  0  0  1  1  1  0  0  0  0   0\n",
              "2      3  0  1  0  0  1  0  1  0  0   0\n",
              "3      4  1  1  0  0  0  0  1  1  0   0\n",
              "4      5  0  1  0  1  0  0  0  1  0   0\n",
              "5      6  1  1  0  1  1  0  0  0  0   0\n",
              "6      7  1  1  0  1  1  0  0  0  0   0\n",
              "7      8  1  1  0  0  0  1  0  0  0   0\n",
              "8      9  1  1  0  1  0  0  0  0  0   0\n",
              "9     10  1  1  0  0  0  1  0  0  1   0\n",
              "10    11  1  1  1  0  1  0  0  1  0   0\n",
              "11    12  1  1  1  1  0  1  0  0  0   0\n",
              "12    13  1  0  0  1  1  0  0  0  0   0\n",
              "13    14  1  0  1  0  0  1  0  0  0   0\n",
              "14    15  1  1  0  0  0  0  1  0  0   0\n",
              "15    16  0  0  0  1  0  0  0  0  0   1\n",
              "16    17  1  0  1  0  0  0  0  0  0   0\n",
              "17    18  0  0  1  0  0  1  0  0  0   0\n",
              "18    19  1  0  1  0  0  0  0  0  0   0\n",
              "19    20  1  0  1  1  1  0  0  0  0   0\n",
              "20    21  0  0  0  0  0  1  0  1  0   0\n",
              "21    22  1  1  1  1  0  0  0  0  0   0\n",
              "22    23  1  0  1  0  0  0  0  0  0   0\n",
              "23    24  0  0  1  0  0  1  0  0  0   0\n",
              "24    25  1  1  0  1  0  0  0  0  0   1\n",
              "25    26  1  0  1  0  1  0  0  0  1   0\n",
              "26    27  0  0  0  1  1  0  0  0  0   0\n",
              "27    28  1  0  0  1  0  0  0  0  0   0\n",
              "28    29  1  0  0  0  1  1  0  0  0   0\n",
              "29    30  1  0  0  1  0  0  0  0  0   0"
            ]
          },
          "metadata": {},
          "output_type": "display_data"
        }
      ],
      "source": [
        "\n",
        "# Obtiene matriz de datos para dar solucion al problema planteado\n",
        "path = 'https://docs.google.com/spreadsheets/d/1Ipn6IrbQP4ax8zOnivdBIw2lN0JISkJG4fXndYd27U0/export?gid=0&format=csv'\n",
        "data = pd.read_csv(path, sep=',', header=1)\n",
        "\n",
        "# Elimina columna inncesaria del archivo descargado\n",
        "data = data.drop(['Unnamed: 11'], axis =1)\n",
        "\n",
        "# Elimina filas con datos basura\n",
        "data = data.drop([30, 31])\n",
        "\n",
        "# Convierte tipos de datos\n",
        "data = data[[\"Toma\",\"1\",\"2\",\"3\",\"4\",\"5\",\"6\",\"7\",\"8\",\"9\",\"10\"]].astype(int)\n",
        "\n",
        "display(data)\n",
        "\n",
        "# Obtiene lista de actores\n",
        "actores = data.columns[1:].astype(int).to_numpy()\n",
        "\n",
        "# Obtiene un detalle del nuúmero de tomas\n",
        "tomas = data[data.columns[0:1]].to_numpy()\n",
        "\n",
        "# Obtiene la matriz de tomas asignadas a cada actor\n",
        "tomas_actores = data[data.columns[1:]].to_numpy()\n"
      ]
    },
    {
      "cell_type": "code",
      "execution_count": 86,
      "metadata": {},
      "outputs": [],
      "source": [
        "def obtiene_solucion_tomas(tomas, tomas_actores):\n",
        "    \n",
        "    dia = 1\n",
        "    solucion = np.zeros((len(tomas),3)).astype(int)\n",
        "    matriz_tomas = np.zeros(10, dtype=int).reshape(1,10)\n",
        "\n",
        "    for idx, toma in enumerate(tomas):\n",
        "\n",
        "        # Obtiene la toma actual de la matriz de tomas\n",
        "        toma_actual = tomas_actores[toma-1]\n",
        "\n",
        "        # Calcula la diferencia de matrices entre la matriz actual y la matriz de tomas\n",
        "        diferencia = np.subtract(toma_actual, np.add.reduce(matriz_tomas, axis=0))\n",
        "        diferencia[diferencia < 0] = 0\n",
        "\n",
        "        # Agrega la toma actual a la matriz de tomas\n",
        "        matriz_tomas = np.append(matriz_tomas, toma_actual, axis=0)\n",
        "        \n",
        "        #Almacenamos el día, número de toma y costo adicional de la toma\n",
        "        solucion[idx] = [dia, toma[0], diferencia.sum()]\n",
        "        # print(f'dia [{dia}], toma{toma}, costo[{diferencia.sum()}] ')\n",
        "\n",
        "        # Verifica el número de días máximo para las tomas\n",
        "        if(toma%6==0):\n",
        "            # Inicia desde cero la matriz de toma\n",
        "            matriz_tomas = np.zeros(10, dtype=int).reshape(1,10)\n",
        "            dia+=1\n",
        "    return solucion  "
      ]
    },
    {
      "cell_type": "code",
      "execution_count": 87,
      "metadata": {
        "id": "CJb5sQ0qkENy"
      },
      "outputs": [
        {
          "name": "stdout",
          "output_type": "stream",
          "text": [
            "Costo minímo = 38\n",
            "Mejor asignación de actores a tomas:\n",
            "[[ 1  1  5]\n",
            " [ 1  2  0]\n",
            " [ 1  3  1]\n",
            " [ 1  4  1]\n",
            " [ 1  5  0]\n",
            " [ 1  6  0]\n",
            " [ 2  7  4]\n",
            " [ 2  8  1]\n",
            " [ 2  9  0]\n",
            " [ 2 10  1]\n",
            " [ 2 11  2]\n",
            " [ 2 12  0]\n",
            " [ 3 13  3]\n",
            " [ 3 14  2]\n",
            " [ 3 15  2]\n",
            " [ 3 16  1]\n",
            " [ 3 17  0]\n",
            " [ 3 18  0]\n",
            " [ 4 19  2]\n",
            " [ 4 20  2]\n",
            " [ 4 21  2]\n",
            " [ 4 22  1]\n",
            " [ 4 23  0]\n",
            " [ 4 24  0]\n",
            " [ 5 25  4]\n",
            " [ 5 26  3]\n",
            " [ 5 27  0]\n",
            " [ 5 28  0]\n",
            " [ 5 29  1]\n",
            " [ 5 30  0]]\n"
          ]
        }
      ],
      "source": [
        "solucion = obtiene_solucion_tomas(tomas, tomas_actores)\n",
        "print (f'Costo minímo = {np.sum(solucion[:,2], axis = 0)}')\n",
        "print(\"Mejor asignación de actores a tomas:\")\n",
        "print(solucion)\n"
      ]
    },
    {
      "cell_type": "markdown",
      "metadata": {
        "id": "tgrnsC2nkFa8"
      },
      "source": [
        "Calcula la complejidad del algoritmo por fuerza bruta"
      ]
    },
    {
      "cell_type": "markdown",
      "metadata": {
        "id": "9eUd3xwckP68"
      },
      "source": [
        "__Respuesta:__"
      ]
    },
    {
      "cell_type": "markdown",
      "metadata": {
        "id": "rvZWwL-ckRST"
      },
      "source": [
        "El algoritmo recorre todas las tomas una vez, por lo que la complejidad de esta parte es O(N).\n",
        "\n",
        "Dentro del bucle que recorre las tomas, se realiza una operación de suma __(np.add.reduce(matriz_tomas, axis=0))__ y una operación de resta __(np.subtract(toma_actual, np.add.reduce(matriz_tomas, axis=0))).__ Cada una de estas operaciones de suma y resta tiene una complejidad de O(M), ya que involucra sumar o restar M elementos. Por lo tanto, la complejidad de estas operaciones dentro del bucle es O(M).\n",
        "\n",
        "Dentro del bucle, se realiza una operación de concatenación de matrices __(np.append(matriz_tomas, toma_actual, axis=0)).__ La operación de concatenación de matrices tiene una complejidad de O(NM), ya que debe copiar todos los elementos de ambas matrices en una nueva matriz. Por lo tanto, la complejidad de esta operación dentro del bucle es O(NM).\n",
        "\n",
        "El bucle también realiza algunas operaciones como asignaciones y verificaciones condicionales, que tienen una complejidad constante y no afectan significativamente la complejidad total del algoritmo.\n",
        "\n",
        "En resumen, la complejidad del algoritmo es : __O(N * (M + N * M)) = O(N^2 * M)__, ya que la operación de concatenación de matrices dentro del bucle es la que domina la complejidad. "
      ]
    },
    {
      "cell_type": "markdown",
      "metadata": {
        "id": "txbrmLmskReM"
      },
      "source": [
        "(*)Diseña un algoritmo que mejore la complejidad del algortimo por fuerza bruta. Argumenta porque crees que mejora el algoritmo por fuerza bruta"
      ]
    },
    {
      "cell_type": "markdown",
      "metadata": {
        "id": "hLrVwt5QkZPD"
      },
      "source": [
        "Respuesta:"
      ]
    },
    {
      "cell_type": "markdown",
      "metadata": {},
      "source": [
        "_El algoritmo que se utilizó para mejorar la complejidad fue el algoritmo greddy, el cual obtiene una solución inicial aproximada al problema de planificación de sesiones de doblaje en donde se seleccionan tomas de forma voraz considerando en cada paso la toma que maximice la cantidad de actores que no han participado previamente en ninguna toma asignada._"
      ]
    },
    {
      "cell_type": "code",
      "execution_count": 88,
      "metadata": {},
      "outputs": [],
      "source": [
        "\n",
        "def obtiene_matriz_tomas_aleatoria(tomas):\n",
        "    return np.random.choice(tomas, len(tomas), replace=False)\n",
        "\n",
        "# Obtiene la distancia entre tomas, es decir los actores que yan realizado una toma e identifica los que tienen una toma nueva\n",
        "def distancia_entre_tomas(toma_actual, toma_actores):\n",
        "    diferencia = np.subtract(toma_actores, toma_actual)\n",
        "    diferencia[diferencia < 0] = 0\n",
        "\n",
        "    return np.sum(diferencia, axis=1)"
      ]
    },
    {
      "cell_type": "code",
      "execution_count": 89,
      "metadata": {},
      "outputs": [],
      "source": [
        "\n",
        "def obtiene_tomas_greddy(tomas, m_tomas_actores):\n",
        "    # Para iniciar se excluye de la lista de tomas el primer elemento\n",
        "    tomas_disponibles = list(tomas[1:])\n",
        "\n",
        "    # Inicializa la lista de tomas seleccionando el primero elemento de la lista de tomas\n",
        "    tomas_greddy = list(tomas[0:1])\n",
        "    \n",
        "    # Obtiene la primera toma\n",
        "    actores_toma_actual = m_tomas_actores[0]\n",
        "\n",
        "    # Se obtiene la distancia entre la primera toma y la matriz de tomas\n",
        "    # para identificar los actores que no han participado en tomas anteriores\n",
        "    distancia_tomas = distancia_entre_tomas(actores_toma_actual, m_tomas_actores)\n",
        "    \n",
        "    # Excluye de la matriz de distancia el primero elemento\n",
        "    distancia_tomas = distancia_tomas[1:]\n",
        "\n",
        "    tamanio_tomas_disponibles = len(tomas_disponibles)\n",
        "    while(tamanio_tomas_disponibles > 0):\n",
        "        # Obtiene la distancia minima de la toma actual y la matriz de tomas\n",
        "        distancia_minima = np.argmin(distancia_tomas)\n",
        "\n",
        "        toma_seleccionada = tomas[distancia_minima]\n",
        "        if(toma_seleccionada in tomas_disponibles):\n",
        "            tomas_greddy.append(toma_seleccionada)\n",
        "            tomas_disponibles.remove(toma_seleccionada)\n",
        "            tamanio_tomas_disponibles= tamanio_tomas_disponibles - 1\n",
        "            \n",
        "            # Identifica los actores que han participado en la toma actual y la matriz de tomas con distancia minima\n",
        "            actores_toma_actual = np.add(actores_toma_actual, m_tomas_actores[distancia_minima])\n",
        "            actores_toma_actual[actores_toma_actual > 1] = 1\n",
        "            distancia_tomas = distancia_entre_tomas(actores_toma_actual, m_tomas_actores)\n",
        "        else:\n",
        "            distancia_tomas[distancia_minima] = 9999\n",
        "    return np.array(tomas_greddy).reshape(len(tomas),1)\n"
      ]
    },
    {
      "cell_type": "code",
      "execution_count": 90,
      "metadata": {},
      "outputs": [
        {
          "name": "stdout",
          "output_type": "stream",
          "text": [
            "Costo minímo = 34\n",
            "Mejor asignación de actores a tomas (algoritmo greddy) :\n",
            "[[ 1  1  5]\n",
            " [ 1  5  1]\n",
            " [ 1  2  0]\n",
            " [ 1  6  0]\n",
            " [ 2  7  4]\n",
            " [ 2  9  0]\n",
            " [ 2 11  2]\n",
            " [ 2 13  0]\n",
            " [ 2 17  0]\n",
            " [ 2 19  0]\n",
            " [ 2 20  0]\n",
            " [ 2 22  0]\n",
            " [ 2 23  0]\n",
            " [ 2 27  0]\n",
            " [ 2 28  0]\n",
            " [ 2 30  0]\n",
            " [ 3  3  3]\n",
            " [ 3  4  2]\n",
            " [ 3 15  0]\n",
            " [ 3  8  1]\n",
            " [ 3 12  2]\n",
            " [ 4 14  3]\n",
            " [ 4 18  0]\n",
            " [ 5 21  2]\n",
            " [ 5 24  1]\n",
            " [ 6 29  3]\n",
            " [ 6 10  2]\n",
            " [ 6 26  1]\n",
            " [ 6 16  2]\n",
            " [ 6 25  0]]\n"
          ]
        }
      ],
      "source": [
        "m_tomas = tomas.reshape(len(tomas))\n",
        "\n",
        "# Obtiene la lista de tomas de acuerdo a las tomas en donde los actores han realizado al menos una intervencion\n",
        "tomas_greddy = obtiene_tomas_greddy(m_tomas, tomas_actores)\n",
        "\n",
        "solucion_greddy = obtiene_solucion_tomas(tomas_greddy, tomas_actores)\n",
        "print (f'Costo minímo = {np.sum(solucion_greddy[:,2], axis = 0)}')\n",
        "print(\"Mejor asignación de actores a tomas (algoritmo greddy) :\")\n",
        "print(solucion_greddy)\n"
      ]
    },
    {
      "cell_type": "markdown",
      "metadata": {},
      "source": [
        "El costo minimo calculado por el algoritmo greddy es de 34 un valor menor al calculado por el algoritmo de fuerza bruta"
      ]
    },
    {
      "cell_type": "markdown",
      "metadata": {
        "id": "eGDB4K6uk1iN"
      },
      "source": [
        "(*)Calcula la complejidad del algoritmo"
      ]
    },
    {
      "cell_type": "markdown",
      "metadata": {
        "id": "NhpTh_BPk1ms"
      },
      "source": [
        "Respuesta:"
      ]
    },
    {
      "cell_type": "markdown",
      "metadata": {
        "id": "nREzhkStlCq8"
      },
      "source": [
        "La complejidad del algoritmo planteado es : O(n^2) en el peor caso."
      ]
    },
    {
      "cell_type": "markdown",
      "metadata": {
        "id": "3M6QjTsSkmYe"
      },
      "source": [
        "Según el problema (y tenga sentido), diseña un juego de datos de entrada aleatorios"
      ]
    },
    {
      "cell_type": "markdown",
      "metadata": {
        "id": "Jc3_OlyNkvjZ"
      },
      "source": [
        "Respuesta:"
      ]
    },
    {
      "cell_type": "code",
      "execution_count": 91,
      "metadata": {
        "id": "sJ-N2etjkyWc"
      },
      "outputs": [],
      "source": [
        "# Se define una matriz 80 tomas y 10 actores\n",
        "# Para eso creamos una matriz con 1 y 0 de manera aleatoria\n",
        "\n",
        "n_tomas = 80\n",
        "m_tomas_actores = np.random.randint(2, size=(n_tomas, 10))\n",
        "t_tomas = np.arange(1, n_tomas + 1,1)"
      ]
    },
    {
      "cell_type": "markdown",
      "metadata": {
        "id": "zy5ZROmjlGo1"
      },
      "source": [
        "Aplica el algoritmo al juego de datos generado"
      ]
    },
    {
      "cell_type": "markdown",
      "metadata": {
        "id": "_Cmj-PVylMsa"
      },
      "source": [
        "Respuesta:"
      ]
    },
    {
      "cell_type": "code",
      "execution_count": 94,
      "metadata": {
        "id": "Jkx8GeiYlUz1"
      },
      "outputs": [
        {
          "name": "stdout",
          "output_type": "stream",
          "text": [
            "Costo minímo = 114\n",
            "Mejor asignación de actores a tomas (algoritmo greddy) :\n",
            "[[ 1  1  3]\n",
            " [ 1 49  3]\n",
            " [ 1 36  0]\n",
            " [ 2 50  0]\n",
            " [ 2 58  4]\n",
            " [ 2 66  1]\n",
            " [ 3  2  6]\n",
            " [ 3 34  1]\n",
            " [ 3 57  0]\n",
            " [ 3  3  1]\n",
            " [ 3 29  0]\n",
            " [ 3 30  0]\n",
            " [ 4 31  6]\n",
            " [ 4 37  1]\n",
            " [ 4 51  1]\n",
            " [ 4 52  0]\n",
            " [ 4 53  0]\n",
            " [ 4 54  0]\n",
            " [ 5 59  3]\n",
            " [ 5 61  2]\n",
            " [ 5 64  1]\n",
            " [ 5 72  0]\n",
            " [ 6 80  4]\n",
            " [ 6  5  5]\n",
            " [ 6 11  0]\n",
            " [ 6 19  0]\n",
            " [ 6 23  0]\n",
            " [ 6 25  0]\n",
            " [ 6 27  0]\n",
            " [ 6 32  0]\n",
            " [ 6 42  0]\n",
            " [ 7 43  4]\n",
            " [ 7 47  3]\n",
            " [ 7 60  0]\n",
            " [ 8 65  6]\n",
            " [ 8 67  1]\n",
            " [ 8 69  1]\n",
            " [ 8 70  0]\n",
            " [ 8 73  1]\n",
            " [ 8  4  1]\n",
            " [ 8  6  0]\n",
            " [ 9  7  3]\n",
            " [ 9  8  3]\n",
            " [ 9  9  0]\n",
            " [ 9 10  0]\n",
            " [ 9 12  3]\n",
            " [10 13  4]\n",
            " [10 14  3]\n",
            " [10 15  2]\n",
            " [10 16  0]\n",
            " [10 17  1]\n",
            " [10 18  0]\n",
            " [11 20  6]\n",
            " [11 21  3]\n",
            " [11 22  0]\n",
            " [11 24  1]\n",
            " [12 26  6]\n",
            " [12 28  2]\n",
            " [12 33  1]\n",
            " [12 35  1]\n",
            " [12 38  0]\n",
            " [12 39  0]\n",
            " [12 40  0]\n",
            " [12 41  0]\n",
            " [12 44  0]\n",
            " [12 45  0]\n",
            " [12 46  0]\n",
            " [12 48  0]\n",
            " [13 55  6]\n",
            " [13 56  3]\n",
            " [13 62  1]\n",
            " [13 63  0]\n",
            " [13 68  0]\n",
            " [13 71  0]\n",
            " [13 74  0]\n",
            " [13 75  0]\n",
            " [13 76  0]\n",
            " [13 77  0]\n",
            " [13 78  0]\n",
            " [14 79  6]]\n"
          ]
        }
      ],
      "source": [
        "# Obtiene la lista de tomas de acuerdo a las tomas en donde los actores han realizado al menos una intervencion\n",
        "tomas_greddy = obtiene_tomas_greddy(t_tomas, m_tomas_actores)\n",
        "\n",
        "solucion_greddy = obtiene_solucion_tomas(tomas_greddy, m_tomas_actores)\n",
        "print (f'Costo minímo = {np.sum(solucion_greddy[:,2], axis = 0)}')\n",
        "print(\"Mejor asignación de actores a tomas (algoritmo greddy) :\")\n",
        "print(solucion_greddy)"
      ]
    },
    {
      "cell_type": "markdown",
      "metadata": {
        "id": "eTFWUJQrtGcv"
      },
      "source": [
        "Enumera las referencias que has utilizado(si ha sido necesario) para llevar a cabo el trabajo"
      ]
    },
    {
      "cell_type": "markdown",
      "metadata": {
        "id": "YKQ_mRBttWsP"
      },
      "source": [
        "Respuesta:"
      ]
    },
    {
      "cell_type": "markdown",
      "metadata": {
        "id": "kAkDPUyRtYyH"
      },
      "source": [
        "Describe brevemente las lineas de como crees que es posible avanzar en el estudio del problema. Ten en cuenta incluso posibles variaciones del problema y/o variaciones al alza del tamaño"
      ]
    },
    {
      "cell_type": "markdown",
      "metadata": {
        "id": "IE0uZmo-tZu-"
      },
      "source": [
        "Respuesta:"
      ]
    }
  ],
  "metadata": {
    "colab": {
      "provenance": []
    },
    "kernelspec": {
      "display_name": "Python 3",
      "name": "python3"
    },
    "language_info": {
      "codemirror_mode": {
        "name": "ipython",
        "version": 3
      },
      "file_extension": ".py",
      "mimetype": "text/x-python",
      "name": "python",
      "nbconvert_exporter": "python",
      "pygments_lexer": "ipython3",
      "version": "3.9.16"
    }
  },
  "nbformat": 4,
  "nbformat_minor": 0
}
