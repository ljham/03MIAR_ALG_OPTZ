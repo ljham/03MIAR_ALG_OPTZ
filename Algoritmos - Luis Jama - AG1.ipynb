{
 "cells": [
  {
   "cell_type": "markdown",
   "metadata": {},
   "source": [
    "# Actividad Guiada 1\n",
    "##### https://github.com/ljham/03MIAR_ALG_OPTZ.git\n",
    "# Luis Jama Tello"
   ]
  },
  {
   "cell_type": "markdown",
   "metadata": {},
   "source": [
    "__1. Desarrollo de algoritmo con la técnica de divide y vencerás (Torres de Hanoi)__"
   ]
  },
  {
   "cell_type": "code",
   "execution_count": 4,
   "metadata": {},
   "outputs": [
    {
     "name": "stdout",
     "output_type": "stream",
     "text": [
      "Mover bloque desde 1 a 2 \n",
      "Mover bloque desde 1 a 3\n",
      "Mover bloque desde 2 a 3 \n",
      "Mover bloque desde 1 a 2\n",
      "Mover bloque desde 3 a 1 \n",
      "Mover bloque desde 3 a 2\n",
      "Mover bloque desde 1 a 2 \n",
      "Mover bloque desde 1 a 3\n",
      "Mover bloque desde 2 a 3 \n",
      "Mover bloque desde 2 a 1\n",
      "Mover bloque desde 3 a 1 \n",
      "Mover bloque desde 2 a 3\n",
      "Mover bloque desde 1 a 2 \n",
      "Mover bloque desde 1 a 3\n",
      "Mover bloque desde 2 a 3 \n"
     ]
    }
   ],
   "source": [
    "def torres_hanoi(n, origen, destino, pivote):\n",
    "    if(n == 1):\n",
    "        print(f'Mover bloque desde {origen} a {destino} ')\n",
    "        return\n",
    "    \n",
    "    torres_hanoi(n-1, origen=origen, destino=pivote, pivote=destino)\n",
    "    print(f\"Mover bloque desde {origen} a {destino}\")\n",
    "    torres_hanoi(n-1, origen=pivote, destino=destino, pivote=origen)\n",
    "\n",
    "torres_hanoi(4, 1, 3, 2)"
   ]
  },
  {
   "cell_type": "markdown",
   "metadata": {},
   "source": [
    "__2. Desarrollo de algoritmo voraz para resolver problemas (Devolución de cambio)__"
   ]
  },
  {
   "cell_type": "code",
   "execution_count": 5,
   "metadata": {},
   "outputs": [
    {
     "name": "stdout",
     "output_type": "stream",
     "text": [
      "Sistema : \n",
      "[25, 10, 5, 1]\n",
      "[0, 1, 1, 4]\n"
     ]
    }
   ],
   "source": [
    "def cambio_moneda(cantidad, sistema):\n",
    "    print('Sistema : ')\n",
    "    print(sistema)\n",
    "\n",
    "    # Crea una lista con ceros de acuerdo a la dimension del sistema\n",
    "    solucion = [0 for i in range(len(sistema))] \n",
    "    valor_acumulado = 0\n",
    "\n",
    "    for i in range(len(sistema)):\n",
    "        monedas = int((cantidad - valor_acumulado)/sistema[i])\n",
    "        solucion[i] = monedas\n",
    "        valor_acumulado += monedas * sistema[i]\n",
    "        if(valor_acumulado == cantidad): break\n",
    "    \n",
    "    return solucion\n",
    "\n",
    "# Sistema de monedas\n",
    "sistema = [25, 10, 5, 1]\n",
    "\n",
    "# Cambio\n",
    "print(cambio_moneda(19, sistema))\n"
   ]
  },
  {
   "cell_type": "markdown",
   "metadata": {},
   "source": [
    "__3. Problema : Encontrar los dos puntos más cercanos__\n",
    "\n",
    "- Primer intento : Fuerza Bruta"
   ]
  },
  {
   "cell_type": "code",
   "execution_count": 16,
   "metadata": {},
   "outputs": [],
   "source": [
    "def puntos_mas_cercanos_fuerza_bruta(puntos):\n",
    "    n = len(puntos)\n",
    "    min_distancia = float('inf')\n",
    "    punto1 = punto2 = None\n",
    "\n",
    "    for i in range(n - 1):\n",
    "        for j in range(i + 1, n):\n",
    "            dist = abs(puntos[j] - puntos[i])\n",
    "            if dist < min_distancia:\n",
    "                min_distancia = dist\n",
    "                punto1 = puntos[i]\n",
    "                punto2 = puntos[j]\n",
    "\n",
    "    return punto1, punto2\n"
   ]
  },
  {
   "cell_type": "code",
   "execution_count": 18,
   "metadata": {},
   "outputs": [
    {
     "name": "stdout",
     "output_type": "stream",
     "text": [
      "[8439, 9425, 5492, 1729, 1600, 3537, 337, 4421, 4288, 487]\n",
      "Punto 1: 1729\n",
      "Punto 2: 1600\n",
      "Distancia: 129\n"
     ]
    }
   ],
   "source": [
    "import random\n",
    "\n",
    "puntos_1d = [random.randrange(1, 10000) for x in range(10)]\n",
    "print(puntos_1d)\n",
    "\n",
    "punto_cercano1, punto_cercano2 = puntos_mas_cercanos_fuerza_bruta(puntos_1d)\n",
    "\n",
    "print(\"Punto 1:\", punto_cercano1)\n",
    "print(\"Punto 2:\", punto_cercano2)\n",
    "print(\"Distancia:\", abs(punto_cercano2 - punto_cercano1))"
   ]
  },
  {
   "cell_type": "markdown",
   "metadata": {},
   "source": [
    "_La compleijidad para este algoritmo es:  O(n^2) donde n es el número de puntos._"
   ]
  },
  {
   "cell_type": "markdown",
   "metadata": {},
   "source": [
    "- Segundo intento : Divide y vencerás"
   ]
  },
  {
   "cell_type": "code",
   "execution_count": 14,
   "metadata": {},
   "outputs": [],
   "source": [
    "import math\n",
    "\n",
    "def puntos_mas_cercanos_divide_venceras(puntos):\n",
    "    puntos_ordenados = sorted(puntos)  # Ordenar los puntos en orden ascendente\n",
    "    return puntos_mas_cercanos(puntos_ordenados)\n",
    "\n",
    "def puntos_mas_cercanos(puntos):\n",
    "    n = len(puntos)\n",
    "    \n",
    "    # Caso base: Si hay 2 puntos, retornar directamente\n",
    "    if n == 2:\n",
    "        return puntos[0], puntos[1]\n",
    "    \n",
    "    # Caso base: Si hay 3 puntos, calcular distancias y retornar los dos puntos más cercanos\n",
    "    if n == 3:\n",
    "        dist1 = abs(puntos[1] - puntos[0])\n",
    "        dist2 = abs(puntos[2] - puntos[1])\n",
    "\n",
    "        if dist1 < dist2:\n",
    "            return puntos[0], puntos[1]\n",
    "        else:\n",
    "            return puntos[1], puntos[2]\n",
    "    \n",
    "    # Dividir en mitades y encontrar los dos puntos más cercanos en cada mitad\n",
    "    mitad = n // 2\n",
    "    izquierda = puntos[:mitad]\n",
    "    derecha   = puntos[mitad:]\n",
    "    \n",
    "    punto_izq1, punto_izq2 = puntos_mas_cercanos(izquierda)\n",
    "    punto_der1, punto_der2 = puntos_mas_cercanos(derecha)\n",
    "    \n",
    "    # Encontrar los dos puntos más cercanos entre los resultados de cada mitad\n",
    "    dist_izq = abs(punto_izq2 - punto_izq1)\n",
    "    dist_der = abs(punto_der2 - punto_der1)\n",
    "    min_distancia = min(dist_izq, dist_der)\n",
    "    \n",
    "    punto1 = punto_izq1\n",
    "    punto2 = punto_izq2\n",
    "    \n",
    "    # Comprobar si hay un punto más cercano entre las mitades\n",
    "    for i in range(mitad-1, -1, -1):\n",
    "        dist = abs(puntos[i+1] - puntos[i])\n",
    "        if dist < min_distancia:\n",
    "            min_distancia = dist\n",
    "            punto1 = puntos[i]\n",
    "            punto2 = puntos[i+1]\n",
    "        else:\n",
    "            break\n",
    "    \n",
    "    return punto1, punto2\n"
   ]
  },
  {
   "cell_type": "code",
   "execution_count": 15,
   "metadata": {},
   "outputs": [
    {
     "name": "stdout",
     "output_type": "stream",
     "text": [
      "[4545, 3825, 627, 4290, 2143, 7343, 4708, 4316, 5222, 9056]\n",
      "Punto 1: 627\n",
      "Punto 2: 2143\n",
      "Distancia: 1516\n"
     ]
    }
   ],
   "source": [
    "import random\n",
    "\n",
    "puntos_1d = [random.randrange(1, 10000) for x in range(10)]\n",
    "print(puntos_1d)\n",
    "\n",
    "punto_cercano1, punto_cercano2 = puntos_mas_cercanos_divide_venceras(puntos_1d)\n",
    "\n",
    "print(\"Punto 1:\", punto_cercano1)\n",
    "print(\"Punto 2:\", punto_cercano2)\n",
    "print(\"Distancia:\", abs(punto_cercano2 - punto_cercano1))"
   ]
  },
  {
   "cell_type": "markdown",
   "metadata": {},
   "source": [
    "_La complejidad de este algoritmo de divide y vencerás es O(n log n), ya que se realiza una ordenación inicial de los puntos, que tiene una complejidad de O(n log n), y luego se realiza una división en mitades y llamadas recursivas para encontrar los puntos más cercanos en cada mitad, lo cual también tiene una complejidad de O(n log n)._"
   ]
  }
 ],
 "metadata": {
  "interpreter": {
   "hash": "d5df10e2a6548214cf061f264f38e34a2bff2785c21acc4b664a2d103fce6608"
  },
  "kernelspec": {
   "display_name": "Python 3.9.16 ('05MIAR_JUL_23-b5cOl5kd')",
   "language": "python",
   "name": "python3"
  },
  "language_info": {
   "codemirror_mode": {
    "name": "ipython",
    "version": 3
   },
   "file_extension": ".py",
   "mimetype": "text/x-python",
   "name": "python",
   "nbconvert_exporter": "python",
   "pygments_lexer": "ipython3",
   "version": "3.9.16"
  },
  "orig_nbformat": 4
 },
 "nbformat": 4,
 "nbformat_minor": 2
}
